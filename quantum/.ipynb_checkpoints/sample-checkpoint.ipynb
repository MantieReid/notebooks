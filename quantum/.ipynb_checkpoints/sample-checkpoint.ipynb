{
 "cells": [
  {
   "cell_type": "code",
   "execution_count": 31,
   "metadata": {},
   "outputs": [
    {
     "name": "stderr",
     "output_type": "stream",
     "text": [
      "[2018-04-21 13:15:11,551] - INFO - Sample qiskit program\n"
     ]
    }
   ],
   "source": [
    "from qiskit import QuantumProgram\n",
    "import logging\n",
    "\n",
    "# create logger; see https://docs.python.org/3/howto/logging-cookbook.html\n",
    "logger = logging.getLogger()\n",
    "logger.setLevel(logging.DEBUG)\n",
    "# create console handler with a higher log level\n",
    "ch = logging.StreamHandler()\n",
    "ch.setLevel(logging.DEBUG)\n",
    "# create formatter and add it to the handlers\n",
    "formatter = logging.Formatter('[%(asctime)s] - %(levelname)s - %(message)s')\n",
    "ch.setFormatter(formatter)\n",
    "# add the handlers to the logger\n",
    "logger.handlers = []\n",
    "logger.addHandler(ch)\n",
    "\n",
    "logger.info('Sample qiskit program')"
   ]
  },
  {
   "cell_type": "code",
   "execution_count": 32,
   "metadata": {},
   "outputs": [
    {
     "name": "stderr",
     "output_type": "stream",
     "text": [
      "[2018-04-21 13:15:20,366] - INFO - Creating quantum program...\n",
      "[2018-04-21 13:15:20,368] - INFO - >> new quantum_register created: qr 2\n",
      "[2018-04-21 13:15:20,369] - INFO - >> new classical register created: cr 2\n",
      "[2018-04-21 13:15:20,369] - INFO - >> quantum_register exists: qr 2\n",
      "[2018-04-21 13:15:20,370] - INFO - >> classical register exists: cr 2\n"
     ]
    },
    {
     "data": {
      "text/plain": [
       "<qiskit._measure.Measure at 0x27155e2c780>"
      ]
     },
     "execution_count": 32,
     "metadata": {},
     "output_type": "execute_result"
    }
   ],
   "source": [
    "logger.info('Creating quantum program...')\n",
    "qp = QuantumProgram()\n",
    "qr = qp.create_quantum_register(name='qr', size=2)\n",
    "cr = qp.create_classical_register(name='cr', size=2)\n",
    "qc = qp.create_circuit(name='Bell', qregisters=[qr], cregisters=[cr])\n",
    "qc.h(qr[0])\n",
    "qc.cx(qr[0], qr[1])\n",
    "qc.measure(qr[0], cr[0])\n",
    "qc.measure(qr[1], cr[1])"
   ]
  },
  {
   "cell_type": "code",
   "execution_count": 33,
   "metadata": {},
   "outputs": [
    {
     "name": "stderr",
     "output_type": "stream",
     "text": [
      "[2018-04-21 13:15:43,972] - INFO - Executing quantum program...\n",
      "[2018-04-21 13:15:45,060] - DEBUG - Have a Result: <qiskit._result.Result object at 0x0000027155E2C240>\n",
      "[2018-04-21 13:15:45,064] - DEBUG - Jobs left count decreased: 0\n",
      "[2018-04-21 13:15:45,065] - DEBUG - No more jobs in queue, returning results\n"
     ]
    }
   ],
   "source": [
    "logger.info('Executing quantum program...')\n",
    "result = qp.execute(name_of_circuits='Bell', backend=\"local_qasm_simulator\")"
   ]
  },
  {
   "cell_type": "code",
   "execution_count": 34,
   "metadata": {},
   "outputs": [
    {
     "name": "stderr",
     "output_type": "stream",
     "text": [
      "[2018-04-21 13:15:58,468] - INFO - Results:\n",
      "[2018-04-21 13:15:58,470] - INFO - {'11': 502, '00': 522}\n"
     ]
    }
   ],
   "source": [
    "logger.info('Results:')\n",
    "logger.info(result.get_counts('Bell'))"
   ]
  },
  {
   "cell_type": "code",
   "execution_count": null,
   "metadata": {
    "collapsed": true
   },
   "outputs": [],
   "source": []
  }
 ],
 "metadata": {
  "kernelspec": {
   "display_name": "Python 3",
   "language": "python",
   "name": "python3"
  },
  "language_info": {
   "codemirror_mode": {
    "name": "ipython",
    "version": 3
   },
   "file_extension": ".py",
   "mimetype": "text/x-python",
   "name": "python",
   "nbconvert_exporter": "python",
   "pygments_lexer": "ipython3",
   "version": "3.6.1"
  }
 },
 "nbformat": 4,
 "nbformat_minor": 2
}
