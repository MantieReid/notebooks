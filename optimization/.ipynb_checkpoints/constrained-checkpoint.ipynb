{
 "cells": [
  {
   "cell_type": "code",
   "execution_count": 5,
   "metadata": {},
   "outputs": [],
   "source": [
    "import numpy as np\n",
    "from scipy.optimize import minimize\n",
    "\n",
    "from IPython.display import Latex"
   ]
  },
  {
   "cell_type": "markdown",
   "metadata": {},
   "source": [
    "### Constrained optimization example"
   ]
  },
  {
   "cell_type": "markdown",
   "metadata": {},
   "source": [
    "objective:\n",
    "\n",
    "\\begin{eqnarray}\n",
    "MIN[x_0*x_3*(x_0+x_1+x_2)+x_2] \\\\\n",
    "\\end{eqnarray}\n",
    "\n",
    "subject to:\n",
    "\\begin{eqnarray}\n",
    "(1) \\quad x_0*x_1*x_2*x_3 \\geq 25\\\\\n",
    "(2) \\quad x_0^2+x_1^2+x_2^2+x_3^2 = 40\\\\\n",
    "(3) \\quad 1 \\leq x_0,x_1,x_2,x_3 \\leq 5\\\\\n",
    "\\end{eqnarray}"
   ]
  },
  {
   "cell_type": "code",
   "execution_count": 35,
   "metadata": {},
   "outputs": [
    {
     "name": "stdout",
     "output_type": "stream",
     "text": [
      "Initial solution: 16 @ [1, 5, 5, 1]\n",
      "Optimization terminated successfully.\n",
      "Final solution: 17.01401724556073 @ [1.         4.74299607 3.82115466 1.37940764]\n"
     ]
    }
   ],
   "source": [
    "# define objective and constraints functions\n",
    "def objective(x):\n",
    "    return x[0]*x[3]*(x[0]+x[1]+x[2])+x[2]\n",
    "\n",
    "def contraint1(x):\n",
    "    return x[0]*x[1]*x[2]*x[3]-25\n",
    "\n",
    "def contraint2(x):\n",
    "    return sum([xi**2 for xi in x])-40\n",
    "\n",
    "# initialize solution\n",
    "x0 = [1,5,5,1]\n",
    "print('Initial solution: ' + str(objective(x0)) + ' @ '+ str(x0))\n",
    "\n",
    "# add boundaries\n",
    "bnd = (1.0, 5.0)\n",
    "bnds = (bnd, bnd, bnd, bnd)\n",
    "\n",
    "con1 = {'type': 'ineq', 'fun': contraint1}\n",
    "con2 = {'type': 'eq', 'fun': contraint2}\n",
    "cons =[con1, con2]\n",
    "\n",
    "# solve\n",
    "sol = minimize(objective, x0, method='SLSQP', bounds=bnds, constraints=cons)\n",
    "print(sol.message)\n",
    "print('Final solution: ' + str(sol.fun) + ' @ ' + str(sol.x))"
   ]
  },
  {
   "cell_type": "code",
   "execution_count": null,
   "metadata": {},
   "outputs": [],
   "source": []
  }
 ],
 "metadata": {
  "kernelspec": {
   "display_name": "Python 3",
   "language": "python",
   "name": "python3"
  },
  "language_info": {
   "codemirror_mode": {
    "name": "ipython",
    "version": 3
   },
   "file_extension": ".py",
   "mimetype": "text/x-python",
   "name": "python",
   "nbconvert_exporter": "python",
   "pygments_lexer": "ipython3",
   "version": "3.7.0"
  }
 },
 "nbformat": 4,
 "nbformat_minor": 2
}
